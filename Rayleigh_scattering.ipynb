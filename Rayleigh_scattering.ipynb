{
 "cells": [
  {
   "cell_type": "code",
   "execution_count": 1,
   "metadata": {},
   "outputs": [],
   "source": [
    "from sympy import *\n",
    "x1, x2, y1, y2 = symbols(\"x1 x2 y1 y2\", real=True)  \n",
    "x = x1 + I*x2\n",
    "y = y1 + I*y2"
   ]
  },
  {
   "cell_type": "code",
   "execution_count": 25,
   "metadata": {},
   "outputs": [],
   "source": [
    "from IPython.display import display, Math"
   ]
  },
  {
   "cell_type": "code",
   "execution_count": 2,
   "metadata": {},
   "outputs": [
    {
     "data": {
      "text/latex": [
       "$\\displaystyle \\sqrt{x_{1}^{2} + x_{2}^{2}}$"
      ],
      "text/plain": [
       "sqrt(x1**2 + x2**2)"
      ]
     },
     "execution_count": 2,
     "metadata": {},
     "output_type": "execute_result"
    }
   ],
   "source": [
    "abs(x)"
   ]
  },
  {
   "cell_type": "code",
   "execution_count": 3,
   "metadata": {},
   "outputs": [],
   "source": [
    "nr, ni = symbols(\"nr ni\", real=True)"
   ]
  },
  {
   "cell_type": "code",
   "execution_count": 4,
   "metadata": {},
   "outputs": [],
   "source": [
    "n1=nr+I*ni\n",
    "n2=nr-I*ni"
   ]
  },
  {
   "cell_type": "code",
   "execution_count": 5,
   "metadata": {},
   "outputs": [
    {
     "data": {
      "text/latex": [
       "$\\displaystyle \\frac{\\sqrt{\\left(i ni - nr\\right)^{2} \\left(i ni + nr\\right)^{2} - \\left(i ni - nr\\right)^{2} - \\left(i ni + nr\\right)^{2} + 1}}{\\sqrt{\\left(i ni - nr\\right)^{2} \\left(i ni + nr\\right)^{2} + 2 \\left(i ni - nr\\right)^{2} + 2 \\left(i ni + nr\\right)^{2} + 4}}$"
      ],
      "text/plain": [
       "sqrt((I*ni - nr)**2*(I*ni + nr)**2 - (I*ni - nr)**2 - (I*ni + nr)**2 + 1)/sqrt((I*ni - nr)**2*(I*ni + nr)**2 + 2*(I*ni - nr)**2 + 2*(I*ni + nr)**2 + 4)"
      ]
     },
     "execution_count": 5,
     "metadata": {},
     "output_type": "execute_result"
    }
   ],
   "source": [
    "abs((n1**2-1)/(n1**2+2))"
   ]
  },
  {
   "cell_type": "code",
   "execution_count": 7,
   "metadata": {},
   "outputs": [
    {
     "data": {
      "text/latex": [
       "$\\displaystyle 0$"
      ],
      "text/plain": [
       "0"
      ]
     },
     "execution_count": 7,
     "metadata": {},
     "output_type": "execute_result"
    }
   ],
   "source": [
    "abs((n2**2-1)/(n2**2+2))-abs((n1**2-1)/(n1**2+2))"
   ]
  },
  {
   "cell_type": "code",
   "execution_count": 8,
   "metadata": {},
   "outputs": [],
   "source": [
    "alpha_p = (n1**2-1)/(n1**2+2)"
   ]
  },
  {
   "cell_type": "code",
   "execution_count": 9,
   "metadata": {},
   "outputs": [
    {
     "data": {
      "text/latex": [
       "$\\displaystyle \\frac{4 ni^{2} nr^{2}}{4 ni^{2} nr^{2} + \\left(- ni^{2} + nr^{2} + 2\\right)^{2}} + \\frac{\\left(- ni^{2} + nr^{2} - 1\\right) \\left(- ni^{2} + nr^{2} + 2\\right)}{4 ni^{2} nr^{2} + \\left(- ni^{2} + nr^{2} + 2\\right)^{2}}$"
      ],
      "text/plain": [
       "4*ni**2*nr**2/(4*ni**2*nr**2 + (-ni**2 + nr**2 + 2)**2) + (-ni**2 + nr**2 - 1)*(-ni**2 + nr**2 + 2)/(4*ni**2*nr**2 + (-ni**2 + nr**2 + 2)**2)"
      ]
     },
     "execution_count": 9,
     "metadata": {},
     "output_type": "execute_result"
    }
   ],
   "source": [
    "re(alpha_p)"
   ]
  },
  {
   "cell_type": "code",
   "execution_count": 10,
   "metadata": {},
   "outputs": [
    {
     "data": {
      "text/latex": [
       "$\\displaystyle - \\frac{2 ni nr \\left(- ni^{2} + nr^{2} - 1\\right)}{4 ni^{2} nr^{2} + \\left(- ni^{2} + nr^{2} + 2\\right)^{2}} + \\frac{2 ni nr \\left(- ni^{2} + nr^{2} + 2\\right)}{4 ni^{2} nr^{2} + \\left(- ni^{2} + nr^{2} + 2\\right)^{2}}$"
      ],
      "text/plain": [
       "-2*ni*nr*(-ni**2 + nr**2 - 1)/(4*ni**2*nr**2 + (-ni**2 + nr**2 + 2)**2) + 2*ni*nr*(-ni**2 + nr**2 + 2)/(4*ni**2*nr**2 + (-ni**2 + nr**2 + 2)**2)"
      ]
     },
     "execution_count": 10,
     "metadata": {},
     "output_type": "execute_result"
    }
   ],
   "source": [
    "im(alpha_p)"
   ]
  },
  {
   "cell_type": "code",
   "execution_count": 11,
   "metadata": {},
   "outputs": [],
   "source": [
    "alpha_p2 = (n2**2-1)/(n2**2+2)"
   ]
  },
  {
   "cell_type": "code",
   "execution_count": 12,
   "metadata": {},
   "outputs": [
    {
     "data": {
      "text/latex": [
       "$\\displaystyle \\frac{4 ni^{2} nr^{2}}{4 ni^{2} nr^{2} + \\left(- ni^{2} + nr^{2} + 2\\right)^{2}} + \\frac{\\left(- ni^{2} + nr^{2} - 1\\right) \\left(- ni^{2} + nr^{2} + 2\\right)}{4 ni^{2} nr^{2} + \\left(- ni^{2} + nr^{2} + 2\\right)^{2}}$"
      ],
      "text/plain": [
       "4*ni**2*nr**2/(4*ni**2*nr**2 + (-ni**2 + nr**2 + 2)**2) + (-ni**2 + nr**2 - 1)*(-ni**2 + nr**2 + 2)/(4*ni**2*nr**2 + (-ni**2 + nr**2 + 2)**2)"
      ]
     },
     "execution_count": 12,
     "metadata": {},
     "output_type": "execute_result"
    }
   ],
   "source": [
    "re(alpha_p)"
   ]
  },
  {
   "cell_type": "code",
   "execution_count": 15,
   "metadata": {},
   "outputs": [],
   "source": [
    "absorption=im(alpha_p2)"
   ]
  },
  {
   "cell_type": "code",
   "execution_count": 17,
   "metadata": {},
   "outputs": [
    {
     "data": {
      "text/latex": [
       "$\\displaystyle -0.00498268516627902$"
      ],
      "text/plain": [
       "-0.00498268516627902"
      ]
     },
     "execution_count": 17,
     "metadata": {},
     "output_type": "execute_result"
    }
   ],
   "source": [
    "absorption.subs([[nr,1.5],[ni,0.01]])"
   ]
  },
  {
   "cell_type": "code",
   "execution_count": 18,
   "metadata": {},
   "outputs": [],
   "source": [
    "absorption=im(alpha_p)"
   ]
  },
  {
   "cell_type": "code",
   "execution_count": 19,
   "metadata": {},
   "outputs": [
    {
     "data": {
      "text/latex": [
       "$\\displaystyle 0.00498268516627902$"
      ],
      "text/plain": [
       "0.00498268516627902"
      ]
     },
     "execution_count": 19,
     "metadata": {},
     "output_type": "execute_result"
    }
   ],
   "source": [
    "absorption.subs([[nr,1.5],[ni,0.01]])"
   ]
  },
  {
   "cell_type": "code",
   "execution_count": 20,
   "metadata": {},
   "outputs": [],
   "source": [
    "P11,theta = symbols(\"P11, theta\", real=True)  "
   ]
  },
  {
   "cell_type": "code",
   "execution_count": 21,
   "metadata": {},
   "outputs": [],
   "source": [
    "P11=3/4*(1+cos(theta)**2)"
   ]
  },
  {
   "cell_type": "code",
   "execution_count": 26,
   "metadata": {},
   "outputs": [
    {
     "data": {
      "text/latex": [
       "$\\displaystyle 0.75 \\cos^{2}{\\left(\\theta \\right)} + 0.75$"
      ],
      "text/plain": [
       "0.75*cos(theta)**2 + 0.75"
      ]
     },
     "metadata": {},
     "output_type": "display_data"
    }
   ],
   "source": [
    "display(P11)"
   ]
  },
  {
   "cell_type": "code",
   "execution_count": 30,
   "metadata": {},
   "outputs": [
    {
     "data": {
      "text/latex": [
       "$\\displaystyle 2.0$"
      ],
      "text/plain": [
       "2.00000000000000"
      ]
     },
     "execution_count": 30,
     "metadata": {},
     "output_type": "execute_result"
    }
   ],
   "source": [
    "integrate(P11*sin(theta),[theta,0,pi])"
   ]
  },
  {
   "cell_type": "code",
   "execution_count": null,
   "metadata": {},
   "outputs": [],
   "source": []
  }
 ],
 "metadata": {
  "kernelspec": {
   "display_name": "Python 3",
   "language": "python",
   "name": "python3"
  },
  "language_info": {
   "codemirror_mode": {
    "name": "ipython",
    "version": 3
   },
   "file_extension": ".py",
   "mimetype": "text/x-python",
   "name": "python",
   "nbconvert_exporter": "python",
   "pygments_lexer": "ipython3",
   "version": "3.7.7"
  }
 },
 "nbformat": 4,
 "nbformat_minor": 4
}
