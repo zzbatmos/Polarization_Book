{
  "nbformat": 4,
  "nbformat_minor": 0,
  "metadata": {
    "colab": {
      "name": "Compiling_Mie_PDA_in_Colab.ipynb",
      "provenance": [],
      "collapsed_sections": [],
      "authorship_tag": "ABX9TyOXbObVE9ME/Xkq251ZHvcB",
      "include_colab_link": true
    },
    "kernelspec": {
      "name": "python3",
      "display_name": "Python 3"
    },
    "language_info": {
      "name": "python"
    }
  },
  "cells": [
    {
      "cell_type": "markdown",
      "metadata": {
        "id": "view-in-github",
        "colab_type": "text"
      },
      "source": [
        "<a href=\"https://colab.research.google.com/github/zzbatmos/Polarization_Book/blob/main/Compiling_Mie_PDA_in_Colab.ipynb\" target=\"_parent\"><img src=\"https://colab.research.google.com/assets/colab-badge.svg\" alt=\"Open In Colab\"/></a>"
      ]
    },
    {
      "cell_type": "markdown",
      "source": [
        "# Try to compile the Mie code and Polarizaed Adding Doubling in Colab"
      ],
      "metadata": {
        "id": "b5_0DPNn_a_J"
      }
    },
    {
      "cell_type": "markdown",
      "source": [
        "install gfortran compiler and netCDF library needed to compile the fortran code"
      ],
      "metadata": {
        "id": "ZOPRXsIRNGJe"
      }
    },
    {
      "cell_type": "code",
      "source": [
        "!apt-get install gfortran g++ gcc libnetcdf-dev libnetcdff-dev &> /dev/null"
      ],
      "metadata": {
        "id": "YZmU9yjkPlos"
      },
      "execution_count": null,
      "outputs": []
    },
    {
      "cell_type": "markdown",
      "source": [
        "Mount Google Drive"
      ],
      "metadata": {
        "id": "MhEgGoeI_zKG"
      }
    },
    {
      "cell_type": "code",
      "source": [
        "# Load the Drive helper and mount\n",
        "from google.colab import drive\n",
        "\n",
        "# This will prompt for authorization.\n",
        "drive.mount('/content/drive', force_remount=True)"
      ],
      "metadata": {
        "colab": {
          "base_uri": "https://localhost:8080/"
        },
        "id": "0YINU0k1M2iF",
        "outputId": "59eb89f6-dc58-4db8-cb5f-5db5980c14a9"
      },
      "execution_count": null,
      "outputs": [
        {
          "output_type": "stream",
          "name": "stdout",
          "text": [
            "Mounted at /content/drive\n"
          ]
        }
      ]
    },
    {
      "cell_type": "markdown",
      "source": [
        "## Compile and run the Mie code"
      ],
      "metadata": {
        "id": "vGL2r1q9Az6p"
      }
    },
    {
      "cell_type": "markdown",
      "source": [
        "Check the netCDF configurations\n",
        "use the information with \"--libs\" in the Makefile of Mie code"
      ],
      "metadata": {
        "id": "kVLUB9OI9rR6"
      }
    },
    {
      "cell_type": "code",
      "source": [
        "!nc-config --all"
      ],
      "metadata": {
        "colab": {
          "base_uri": "https://localhost:8080/"
        },
        "id": "tyXXmQE8Ls82",
        "outputId": "9f7040dd-22d7-4b43-aca1-7bfc053a3bab"
      },
      "execution_count": null,
      "outputs": [
        {
          "output_type": "stream",
          "name": "stdout",
          "text": [
            "\n",
            "This netCDF 4.6.0 has been built with the following features: \n",
            "\n",
            "  --cc        -> /usr/bin/cc\n",
            "  --cflags    -> -I/usr/include -I/usr/include/hdf5/serial\n",
            "  --libs      -> -L/usr/lib/x86_64-linux-gnu -L/usr/lib/x86_64-linux-gnu/hdf5/serial -lnetcdf -lhdf5_hl -lhdf5 -lpthread -lsz -lz -ldl -lm -lcurl\n",
            "\n",
            "  --has-c++   -> no\n",
            "  --cxx       -> \n",
            "\n",
            "  --has-c++4  -> no\n",
            "  --cxx4      -> \n",
            "\n",
            "  --has-fortran-> yes\n",
            "  --fc        -> gfortran\n",
            "  --fflags    -> -I/usr/include\n",
            "  --flibs     -> -L/usr/lib -lnetcdff -Wl,-Bsymbolic-functions -Wl,-z,relro -Wl,-z,now -lnetcdf -lnetcdf\n",
            "  --has-f90   -> no\n",
            "  --has-f03   -> yes\n",
            "\n",
            "  --has-dap   -> yes\n",
            "  --has-dap2  -> yes\n",
            "  --has-dap4  -> yes\n",
            "  --has-nc2   -> yes\n",
            "  --has-nc4   -> yes\n",
            "  --has-hdf5  -> yes\n",
            "  --has-hdf4  -> no\n",
            "  --has-logging-> no\n",
            "  --has-pnetcdf-> no\n",
            "  --has-szlib -> no\n",
            "  --has-cdf5 -> no\n",
            "  --has-parallel-> no\n",
            "\n",
            "  --prefix    -> /usr\n",
            "  --includedir-> /usr/include\n",
            "  --libdir    -> /usr/lib/x86_64-linux-gnu\n",
            "  --version   -> netCDF 4.6.0\n",
            "\n"
          ]
        }
      ]
    },
    {
      "cell_type": "markdown",
      "source": [
        " Go the folder of Mie Code and Compile it"
      ],
      "metadata": {
        "id": "KF2XrIJ--BZg"
      }
    },
    {
      "cell_type": "code",
      "source": [
        "%cd /content/drive/Shareddrives/Polarization_Book/Code/Mie_code\n",
        "!make "
      ],
      "metadata": {
        "colab": {
          "base_uri": "https://localhost:8080/"
        },
        "id": "Y4a1HMjINbde",
        "outputId": "ed36f39a-383f-4a53-9379-ee82ce53ceb9"
      },
      "execution_count": null,
      "outputs": [
        {
          "output_type": "stream",
          "name": "stdout",
          "text": [
            "/content/drive/Shareddrives/Polarization_Book/Code/Mie_code\n",
            "gfortran -O2 -g -o mie_single_size.exe mie_single_size.f90 MIEV0.o RDI1MACHmodule.o  ErrPack.o write_data.o -I/usr/include -L/usr/lib -lnetcdff -Wl,-Bsymbolic-functions -Wl,-z,relro -Wl,-z,now -lnetcdf -lnetcdf\n",
            "gfortran -O2 -g -o mie_single_size_driver.exe driver.f90 gamma_size.o REFWAT.o\n"
          ]
        }
      ]
    },
    {
      "cell_type": "markdown",
      "source": [
        "After compiling, run a test case. This will generate a new netCDF file \"Mie_Code_output.nc\""
      ],
      "metadata": {
        "id": "GlH84bUB-cCQ"
      }
    },
    {
      "cell_type": "code",
      "source": [
        "import subprocess\n",
        "import sys\n",
        "result = subprocess.run( \"./mie_single_size.exe\",capture_output=True, text=True)"
      ],
      "metadata": {
        "id": "Ms3TinhNNjod"
      },
      "execution_count": null,
      "outputs": []
    },
    {
      "cell_type": "code",
      "source": [
        "%ls -lt *.nc"
      ],
      "metadata": {
        "colab": {
          "base_uri": "https://localhost:8080/"
        },
        "id": "39aSFw2mN7Nb",
        "outputId": "c5418b03-7d48-455a-e069-181f58dd8076"
      },
      "execution_count": null,
      "outputs": [
        {
          "output_type": "stream",
          "name": "stdout",
          "text": [
            "-rw------- 1 root root 86503940 Dec 17 01:23 Mie_Code_output.nc\n",
            "-rw------- 1 root root 86503940 Dec 16 17:49 Single_Scattering_Mie_CloudSat.nc\n",
            "-rw------- 1 root root    36772 Nov 18  2013 test.nc\n",
            "-rw------- 1 root root   296152 Sep 30  2011 POLDER_443p_Re1to50.nc\n"
          ]
        }
      ]
    },
    {
      "cell_type": "markdown",
      "source": [
        "## Compiling the Polarizaed Doubling Adding (PDA)"
      ],
      "metadata": {
        "id": "zjRG1i1tAs4C"
      }
    },
    {
      "cell_type": "code",
      "source": [
        "%cd /content/drive/Shareddrives/Polarization_Book/Code/Adding_Doubling/rt_code/\n",
        "%cd lib/\n",
        "%rm *.o *.a\n",
        "!gfortran -m64 -frecord-marker=4 -c  `ls *.f`\n",
        "!gfortran -m64 -frecord-marker=4 -c  `ls *.f90`\n",
        "!ar -r libvec.a *.o\n",
        "!ranlib libvec.a\n",
        "%cd ..\n"
      ],
      "metadata": {
        "colab": {
          "base_uri": "https://localhost:8080/"
        },
        "id": "_OJ1WnoAOvj1",
        "outputId": "b0e84671-00d2-48e1-bac6-4d80caabb6d2"
      },
      "execution_count": 81,
      "outputs": [
        {
          "output_type": "stream",
          "name": "stdout",
          "text": [
            "/content/drive/Shareddrives/Polarization_Book/Code/Adding_Doubling/rt_code\n",
            "/content/drive/Shareddrives/Polarization_Book/Code/Adding_Doubling/rt_code/lib\n",
            "ar: creating libvec.a\n",
            "/content/drive/Shareddrives/Polarization_Book/Code/Adding_Doubling/rt_code\n"
          ]
        }
      ]
    },
    {
      "cell_type": "code",
      "source": [
        "!gfortran -m64 -frecord-marker=4 -o vec_generate_ops vec_generate_ops.f -Llib -lvec\n",
        "!gfortran -m64 -frecord-marker=4 -o vec_interp vec_interp.f -Llib -lvec\n",
        "!gfortran -m64 -frecord-marker=4 -o vec_srf vec_srf.f -Llib -lvec"
      ],
      "metadata": {
        "id": "atd1HcAjC2VK"
      },
      "execution_count": 82,
      "outputs": []
    },
    {
      "cell_type": "code",
      "source": [
        "!./vec_generate_ops ./ Rayleigh_0.46.info ./"
      ],
      "metadata": {
        "colab": {
          "base_uri": "https://localhost:8080/"
        },
        "id": "6F-Gw9TxQ1F8",
        "outputId": "7710dab4-8123-4817-833a-0757b5d137b9"
      },
      "execution_count": 87,
      "outputs": [
        {
          "output_type": "stream",
          "name": "stdout",
          "text": [
            " /content/drive/Shareddrives/Polarization_Book/Code/Adding_Doubling/rt_code/../ocean/OC_Fmatrix_all.txt                                                              \n",
            " ./                                                                              Rayleigh_0.46.info                                                              ./                                                                              \n",
            "          1          1          1          0          1          1\n",
            "Number of aerosol types, wavelengths, vertical layers and flag for absorption   \n",
            " MCAP= 90 NCAP= 18 NCAP2= 18NTAU= 24 NTAU2= 24 MTOT= 15 N3BY3= 7\n",
            " QSTOP= 0.10D-19  QSTOP2= 0.10D-19\n",
            " NTHETA, THE NUMBER OF GAUSS POINTS= 56\n",
            " NEXTRA=  1\n",
            " SUM OF GAUSS WEIGHTS=    1.00000000000000 SUM OF WM'S=    1.00000000000000\n",
            "NPHI THE NUMBER OF GAUSS POINTS FOR PHI INTEGRATION =  25\n",
            " SUM OF PHI WEIGHTS=    1.00000000000000 SUM OF PHI=    1.00000000000000\n",
            " ERRBNDR= 0.20D-03  ERRBNDP= 0.10D-03\n",
            " NPERS =  2\n",
            "  90.00000   0.86600\n",
            "Definitions of size distributions                                               \n",
            "       10.00000        0.03000        1.00000       60.00000         1\n",
            "Wavelengths lower bcs and output files                                          \n",
            "        0.46000        0.00000Black_Surf                               Rayleigh_0.46                           \n",
            "Refractive indices for each aerosol type and each wavelength, or an input file f\n",
            "        1.33000       .000E+00  benchmark_aerosol.PDA                                                           \n",
            "List of pressures and aerosol loads by type for each layer (across the row)     \n",
            "        1013.0\n",
            "          0.00E+00\n",
            " INTERVAL NO.  1  IS FROM   0.00  TO   2.00  IN STEPS OF  0.200\n",
            " INTERVAL NO.  2  IS FROM   2.00  TO   5.00  IN STEPS OF  0.500\n",
            " INTERVAL NO.  3  IS FROM   5.00  TO  90.00  IN STEPS OF  1.000\n",
            " Single Scattering Properties File: benchmark_aerosol.PDA                                                                     22\n",
            " NG=96 IPART= 100 NDSRN=22\n",
            " NSD=  1  A= 0.10000000E+02  B= 0.30000000E-01  C= 0.00000000E+00\n",
            "1 NR=     1.33000 NI=.000E+00 ALAM=   0.46000 R1=     1.00000 R2=    60.00000\n",
            " KSCA=  594.821707 KEXT=  594.821707 QSCA=    2.076526 QEXT=    2.076526 COSBAR=    0.868747 PIZERC=    1.000000 NUMPAR=    1.000000\n",
            " REXT= 0.99926E+01 RSCA= 0.99926E+01 RBAR= 0.94000E+01 REFF= 0.10000E+02 VEFF= 0.30000E-01 SEFF= 0.34641E+00 G= 0.28645E+03\n",
            "           2   594.82170664493117     \n",
            "Aerosol:  0.00000E+00 Rayleigh:  0.20216E+00 Gaseous:  0.00000E+00 Surface:  0\n",
            " Renormalization fraction:   0.43744036640159201      Cross-section/Area:    2.0765258800970017     \n",
            " Rayleigh_0.46                                                                   \n",
            " TEST=0.12126649606703E-06\n",
            " TEST=0.16819673837456E-02\n",
            "AUTOMATIC TERMINATION OF FULL DOUBLING FOR MTOT=   6 FOR LAYER    1\n",
            "AUTOMATIC TERMINATION OF SECOND ORDER FOR MTOT=   7 FOR LAYER    1\n",
            "AUTOMATIC TERMINATION OF SECOND ORDER FOR MTOT=   8 FOR LAYER    1\n",
            "Calculation terminated at Fourier component:   8\n",
            " added surface contribution\n",
            "Note: The following floating-point exceptions are signalling: IEEE_INVALID_FLAG\n"
          ]
        }
      ]
    },
    {
      "cell_type": "code",
      "source": [
        "!./vec_interp ./ Rayleigh_0.46 ./ 30 60 5 0 180 20 1"
      ],
      "metadata": {
        "colab": {
          "base_uri": "https://localhost:8080/"
        },
        "id": "a91fp2xvLYLE",
        "outputId": "f19744bb-0636-44d5-8ec4-651bba31eddf"
      },
      "execution_count": 90,
      "outputs": [
        {
          "output_type": "stream",
          "name": "stdout",
          "text": [
            " ./                                                                              Rayleigh_0.46                                                                   ./                                                                              \n",
            " added surface contribution\n",
            " ./Rayleigh_0.46_F000M030.azi\n",
            " added surface contribution\n",
            " ./Rayleigh_0.46_F020M030.azi\n",
            " added surface contribution\n",
            " ./Rayleigh_0.46_F040M030.azi\n",
            " added surface contribution\n",
            " ./Rayleigh_0.46_F060M030.azi\n",
            " added surface contribution\n",
            " ./Rayleigh_0.46_F080M030.azi\n",
            " added surface contribution\n",
            " ./Rayleigh_0.46_F100M030.azi\n",
            " added surface contribution\n",
            " ./Rayleigh_0.46_F120M030.azi\n",
            " added surface contribution\n",
            " ./Rayleigh_0.46_F140M030.azi\n",
            " added surface contribution\n",
            " ./Rayleigh_0.46_F160M030.azi\n",
            " added surface contribution\n",
            " ./Rayleigh_0.46_F180M030.azi\n",
            " added surface contribution\n",
            " ./Rayleigh_0.46_F000M035.azi\n",
            " added surface contribution\n",
            " ./Rayleigh_0.46_F020M035.azi\n",
            " added surface contribution\n",
            " ./Rayleigh_0.46_F040M035.azi\n",
            " added surface contribution\n",
            " ./Rayleigh_0.46_F060M035.azi\n",
            " added surface contribution\n",
            " ./Rayleigh_0.46_F080M035.azi\n",
            " added surface contribution\n",
            " ./Rayleigh_0.46_F100M035.azi\n",
            " added surface contribution\n",
            " ./Rayleigh_0.46_F120M035.azi\n",
            " added surface contribution\n",
            " ./Rayleigh_0.46_F140M035.azi\n",
            " added surface contribution\n",
            " ./Rayleigh_0.46_F160M035.azi\n",
            " added surface contribution\n",
            " ./Rayleigh_0.46_F180M035.azi\n",
            " added surface contribution\n",
            " ./Rayleigh_0.46_F000M040.azi\n",
            " added surface contribution\n",
            " ./Rayleigh_0.46_F020M040.azi\n",
            " added surface contribution\n",
            " ./Rayleigh_0.46_F040M040.azi\n",
            " added surface contribution\n",
            " ./Rayleigh_0.46_F060M040.azi\n",
            " added surface contribution\n",
            " ./Rayleigh_0.46_F080M040.azi\n",
            " added surface contribution\n",
            " ./Rayleigh_0.46_F100M040.azi\n",
            " added surface contribution\n",
            " ./Rayleigh_0.46_F120M040.azi\n",
            " added surface contribution\n",
            " ./Rayleigh_0.46_F140M040.azi\n",
            " added surface contribution\n",
            " ./Rayleigh_0.46_F160M040.azi\n",
            " added surface contribution\n",
            " ./Rayleigh_0.46_F180M040.azi\n",
            " added surface contribution\n",
            " ./Rayleigh_0.46_F000M045.azi\n",
            " added surface contribution\n",
            " ./Rayleigh_0.46_F020M045.azi\n",
            " added surface contribution\n",
            " ./Rayleigh_0.46_F040M045.azi\n",
            " added surface contribution\n",
            " ./Rayleigh_0.46_F060M045.azi\n",
            " added surface contribution\n",
            " ./Rayleigh_0.46_F080M045.azi\n",
            " added surface contribution\n",
            " ./Rayleigh_0.46_F100M045.azi\n",
            " added surface contribution\n",
            " ./Rayleigh_0.46_F120M045.azi\n",
            " added surface contribution\n",
            " ./Rayleigh_0.46_F140M045.azi\n",
            " added surface contribution\n",
            " ./Rayleigh_0.46_F160M045.azi\n",
            " added surface contribution\n",
            " ./Rayleigh_0.46_F180M045.azi\n",
            " added surface contribution\n",
            " ./Rayleigh_0.46_F000M050.azi\n",
            " added surface contribution\n",
            " ./Rayleigh_0.46_F020M050.azi\n",
            " added surface contribution\n",
            " ./Rayleigh_0.46_F040M050.azi\n",
            " added surface contribution\n",
            " ./Rayleigh_0.46_F060M050.azi\n",
            " added surface contribution\n",
            " ./Rayleigh_0.46_F080M050.azi\n",
            " added surface contribution\n",
            " ./Rayleigh_0.46_F100M050.azi\n",
            " added surface contribution\n",
            " ./Rayleigh_0.46_F120M050.azi\n",
            " added surface contribution\n",
            " ./Rayleigh_0.46_F140M050.azi\n",
            " added surface contribution\n",
            " ./Rayleigh_0.46_F160M050.azi\n",
            " added surface contribution\n",
            " ./Rayleigh_0.46_F180M050.azi\n",
            " added surface contribution\n",
            " ./Rayleigh_0.46_F000M055.azi\n",
            " added surface contribution\n",
            " ./Rayleigh_0.46_F020M055.azi\n",
            " added surface contribution\n",
            " ./Rayleigh_0.46_F040M055.azi\n",
            " added surface contribution\n",
            " ./Rayleigh_0.46_F060M055.azi\n",
            " added surface contribution\n",
            " ./Rayleigh_0.46_F080M055.azi\n",
            " added surface contribution\n",
            " ./Rayleigh_0.46_F100M055.azi\n",
            " added surface contribution\n",
            " ./Rayleigh_0.46_F120M055.azi\n",
            " added surface contribution\n",
            " ./Rayleigh_0.46_F140M055.azi\n",
            " added surface contribution\n",
            " ./Rayleigh_0.46_F160M055.azi\n",
            " added surface contribution\n",
            " ./Rayleigh_0.46_F180M055.azi\n",
            " added surface contribution\n",
            " ./Rayleigh_0.46_F000M060.azi\n",
            " added surface contribution\n",
            " ./Rayleigh_0.46_F020M060.azi\n",
            " added surface contribution\n",
            " ./Rayleigh_0.46_F040M060.azi\n",
            " added surface contribution\n",
            " ./Rayleigh_0.46_F060M060.azi\n",
            " added surface contribution\n",
            " ./Rayleigh_0.46_F080M060.azi\n",
            " added surface contribution\n",
            " ./Rayleigh_0.46_F100M060.azi\n",
            " added surface contribution\n",
            " ./Rayleigh_0.46_F120M060.azi\n",
            " added surface contribution\n",
            " ./Rayleigh_0.46_F140M060.azi\n",
            " added surface contribution\n",
            " ./Rayleigh_0.46_F160M060.azi\n",
            " added surface contribution\n",
            " ./Rayleigh_0.46_F180M060.azi\n"
          ]
        }
      ]
    },
    {
      "cell_type": "code",
      "source": [
        "!ls -t"
      ],
      "metadata": {
        "id": "hKpKwBAUVGCd",
        "colab": {
          "base_uri": "https://localhost:8080/"
        },
        "outputId": "46abd4f1-09b1-4b9a-f9d8-4b2b4fca1eeb"
      },
      "execution_count": 89,
      "outputs": [
        {
          "output_type": "stream",
          "name": "stdout",
          "text": [
            "Rayleigh_0.46.rsp      vec_srf\t       tmp\t\t   rdrsp.f90\n",
            "Rayleigh_0.46\t       lib\t       vec_interp.f\t   cmd_line_gen.f90\n",
            "benchmark_aerosol.PDA  include\t       vec_generate_ops.f  extinction_other.f\n",
            "Rayleigh_0.46.info     compile_lib.sh  README.txt\t   kern_srf.f\n",
            "fort.21\t\t       atmos_gen       vec_srf.f\t   phasem_db.f\n",
            "Miedb_m80_n19_l0653    IDL\t       test\t\t   sphere_db.f\n",
            "vec_test_case.info     kern_gen        HazeL_Results.txt   testoc.f90\n",
            "vec_generate_ops       phase_gen       ihm_670_isccp.txt\n",
            "vec_interp\t       surf_gen        vec_generate.f\n"
          ]
        }
      ]
    },
    {
      "cell_type": "code",
      "source": [
        ""
      ],
      "metadata": {
        "id": "XwlBlKw5Qs82"
      },
      "execution_count": null,
      "outputs": []
    }
  ]
}